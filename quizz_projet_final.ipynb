{
 "cells": [
  {
   "cell_type": "code",
   "execution_count": 1,
   "metadata": {},
   "outputs": [
    {
     "name": "stdout",
     "output_type": "stream",
     "text": [
      "Voici notre quizz sur l'Allemagne !\n",
      "Quelle est la capitale de l'Allemagne ? \n",
      "Réponse : Be\n",
      "Dommage ! Il te reste 2 chance(s)\n",
      "Quelle est la capitale de l'Allemagne ? \n",
      "Réponse : be\n",
      "Dommage ! Il te reste 1 chance(s)\n",
      "Quelle est la capitale de l'Allemagne ? \n",
      "Réponse : be\n",
      "Dommage ! Il te reste 0 chance(s)\n",
      "Dommage, tu as perdu!\n"
     ]
    }
   ],
   "source": [
    "dictionnaire = {\"Quelle est la capitale de l'Allemagne ? \\nRéponse : \" : \"BERLIN\", \"Combien y a t-il d'habitants en Allemagne ? \\n89 millions \\n85 millions \\n83 millions \\nRéponse : \" : \"83 millions\", \"Qui est la chancelière actuelle en Allemagne ? \\nVeuillez préciser le prénom puis le nom. \\nRéponse : \" : \"ANGELA MERKEL\"}\n",
    "chances = 2\n",
    "\n",
    "def ask_question(nb_de_chances, quest, rep): \n",
    "    if nb_de_chances > 0:\n",
    "        question = input(quest)\n",
    "        while question.upper() != rep.upper() and nb_de_chances >= 0:\n",
    "            nb_de_chances -=1\n",
    "            print(\"Dommage ! Il te reste {} chance(s)\".format(nb_de_chances+1))\n",
    "            if nb_de_chances < 0:\n",
    "                    print (\"Dommage, tu as perdu!\")\n",
    "                    break\n",
    "            question = input(quest)\n",
    "        else :\n",
    "            print(\"Bonne réponse !\")\n",
    "    return nb_de_chances\n",
    "\n",
    "print(\"Voici notre quizz sur l'Allemagne !\")\n",
    "\n",
    "for question, reponse in dictionnaire.items() :\n",
    "    chances = ask_question(chances, question, reponse)\n",
    "\n",
    "if chances >= 0:\n",
    "    print(\"Bravo ! Tu as gagné le quizz !\")"
   ]
  }
 ],
 "metadata": {
  "kernelspec": {
   "display_name": "Python 3",
   "language": "python",
   "name": "python3"
  },
  "language_info": {
   "codemirror_mode": {
    "name": "ipython",
    "version": 3
   },
   "file_extension": ".py",
   "mimetype": "text/x-python",
   "name": "python",
   "nbconvert_exporter": "python",
   "pygments_lexer": "ipython3",
   "version": "3.7.6"
  }
 },
 "nbformat": 4,
 "nbformat_minor": 4
}
